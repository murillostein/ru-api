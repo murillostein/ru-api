{
 "cells": [
  {
   "cell_type": "code",
   "execution_count": 1,
   "metadata": {},
   "outputs": [],
   "source": [
    "import pandas as pd\n",
    "import requests\n",
    "from bs4 import BeautifulSoup"
   ]
  },
  {
   "cell_type": "code",
   "execution_count": 2,
   "metadata": {},
   "outputs": [],
   "source": [
    "url = 'https://ru.ufsc.br/ru/'\n",
    "response = requests.get(url)\n",
    "soup = BeautifulSoup(response.content, 'html.parser')"
   ]
  },
  {
   "cell_type": "code",
   "execution_count": 3,
   "metadata": {},
   "outputs": [
    {
     "name": "stdout",
     "output_type": "stream",
     "text": [
      "http://siteru.paginas.ufsc.br/files/2024/03/1.-04-a-10.03-sem-fds.pdf\n"
     ]
    }
   ],
   "source": [
    "coins_element = soup.find_all(\"div\", attrs={'class':\"content clearfix\"})\n",
    "for result in coins_element:\n",
    "    cardapio_semana_atual = result.find_all('li')[0]\n",
    "    link = cardapio_semana_atual.find_all('a', href=True)[0]\n",
    "    print(link['href'])\n",
    "    link_cardapio = link['href']\n",
    "\n",
    "    "
   ]
  },
  {
   "cell_type": "code",
   "execution_count": 13,
   "metadata": {},
   "outputs": [
    {
     "name": "stderr",
     "output_type": "stream",
     "text": [
      "c:\\Users\\muril\\AppData\\Local\\Programs\\Python\\Python311\\Lib\\site-packages\\urllib3\\connectionpool.py:1103: InsecureRequestWarning: Unverified HTTPS request is being made to host 'siteru.paginas.ufsc.br'. Adding certificate verification is strongly advised. See: https://urllib3.readthedocs.io/en/latest/advanced-usage.html#tls-warnings\n",
      "  warnings.warn(\n"
     ]
    },
    {
     "name": "stdout",
     "output_type": "stream",
     "text": [
      "PDF downloaded successfully.\n"
     ]
    }
   ],
   "source": [
    "import ssl\n",
    "ssl._create_default_https_context = ssl._create_unverified_context\n",
    "\n",
    "response = requests.get(link_cardapio, verify=False)\n",
    "with open('cardapio_semanal.pdf', 'wb') as f:\n",
    "        # Write the content of the response to the file\n",
    "        f.write(response.content)\n",
    "print(\"PDF downloaded successfully.\")\n"
   ]
  },
  {
   "cell_type": "code",
   "execution_count": 14,
   "metadata": {},
   "outputs": [
    {
     "name": "stdout",
     "output_type": "stream",
     "text": [
      "Started parsing the file under job_id 8da8cb81-8d62-4704-be1c-72d5a354e7e2\n"
     ]
    }
   ],
   "source": [
    "import nest_asyncio\n",
    "nest_asyncio.apply()\n",
    "\n",
    "from llama_parse import LlamaParse\n",
    "\n",
    "parser = LlamaParse(\n",
    "    api_key=\"llx-WDHUAm3jYPuEmfOU4JYIkuhr5lnfXjy13pEHc98E3Te5u5td\",  # can also be set in your env as LLAMA_CLOUD_API_KEY\n",
    "    result_type=\"markdown\",  # \"markdown\" and \"text\" are available\n",
    "    num_workers=4, # if multiple files passed, split in `num_workers` API calls\n",
    "    verbose=True,\n",
    "    language=\"pt\" # Optionaly you can define a language, default=en\n",
    ")\n",
    "\n",
    "# sync\n",
    "documents = parser.load_data(\"cardapio_semanal.pdf\")\n"
   ]
  },
  {
   "cell_type": "code",
   "execution_count": 15,
   "metadata": {},
   "outputs": [
    {
     "data": {
      "text/plain": [
       "[Document(id_='b234be2a-d092-4c19-b163-2656df35187b', embedding=None, metadata={'file_path': 'cardapio_semanal.pdf'}, excluded_embed_metadata_keys=[], excluded_llm_metadata_keys=[], relationships={}, text='|DIA|CARDÁPIO PROGRAMADO|\\n|---|---|\\n|SEGUNDA-FEIRA 04/03/2024|CARNE: Frango com linguiça ARROZ BRANCO/INTEGRAL/FEIJÃO PRETO COMPLEMENTO: Soja em grãos SALADA 1: Agrião SALADA 2: Rabanete SOBREMESA: Fruta MOLHO SALADA: Vinagrete|\\n|TERÇA-FEIRA 05/03/2024|CARNE: Picadinho de carne ARROZ BRANCO/INTEGRAL/FEIJÃO COMPLEMENTO: Mandioquinha SALADA 1: Alface SALADA 2: Cenoura SOBREMESA: Fruta MOLHO SALADA: Molho de mostarda|\\n|QUARTA-FEIRA 06/03/2024|CARNE: Filé de peixe empanado ARROZ BRANCO/INTEGRAL/FEIJÃO COM VEGETAIS COMPLEMENTO: Ratatouille SALADA 1: Repolho roxo SALADA 2: Pepino SOBREMESA: Fruta MOLHO SALADA: Vinagrete|\\n|QUINTA-FEIRA 07/03/2024|CARNE: Sobrecoxa de frango ARROZ BRANCO/INTEGRAL/FEIJÃO COMPLEMENTO: Creme de milho SALADA 1: Acelga SALADA 2: Rabanete SOBREMESA: Fruta MOLHO SALADA: Molho de mostarda|\\n|SEXTA-FEIRA 08/03/2024|CARNE: Frango à portuguesa ARROZ BRANCO/INTEGRAL/FEIJÃO CARIOCA COMPLEMENTO: Batata doce SALADA 1: Couve folha SALADA 2: Cenoura SOBREMESA: Fruta MOLHO SALADA: Molho de ervas|\\n|SÁBADO 09/03/2024|EM BREVE|\\n|DOMINGO 10/03/2024|EM BREVE|\\n---\\n|Segunda-Feira: 04/03/2024|\\n|---|\\n|ARROZ|arroz parboilizado, sal, óleo de soja|\\n|ARROZ INTEGRAL|arroz integral, sal, óleo de soja|\\n|FEIJÃO PRETO|feijão preto, cebola, sal, óleo de soja, tempero verde, alho, orégano, louro|\\n|FRANGO COM LINGUIÇA|peito de frango, linguiça calabresa, tomate, cebola, extrato de tomate, óleo de soja, sal, tempero verde, alho em pasta, sal, aho em pasta, manjericão, orégano, pimenta do reino|\\n|SOJA EM GRÃOS COM SELETA DE LEGUMES|soja em grãos, cebola, seleta de legumes, sal, tempero verde, óleo de soja, alho em pasta, pimenta do reino|\\n|AGRIÃO|agrião|\\n|BETERRABA RALADA|beterraba|\\n|VINAGRETE|água, tomate, cebola, vinagre, tempero verde, sal|\\n\\n|Terça-Feira: 05/03/2024|\\n|---|\\n|ARROZ|arroz parboilizado, sal, óleo de soja|\\n|ARROZ INTEGRAL|arroz integral, sal, óleo de soja|\\n|FEIJÃO PRETO|feijão preto, cebola, sal, óleo de soja, tempero verde, alho, orégano, louro|\\n|PICADINHO DE CARNE|patinho bovino, extrato de tomate, tomate, cebola, oléo de soja, sal, tempero verde, alho em pasta, sal, alho em pasta, pimenta do reino, orégano, manjericão|\\n|MANDIOQUINHA AO FORNO|mandioquinha batata baroa, sal, óleo de soja|\\n|ALFACE|alface|\\n|CENOURA RALADA|cenoura|\\n|MOLHO DE MOSTARDA|molho de mostarda, água, azeite de oliva, vinagre, tempero verde, alho em pasta, sal|\\n\\n|Quarta-Feira: 06/03/2024|\\n|---|\\n|ARROZ|arroz parboilizado, sal, óleo de soja|\\n|ARROZ INTEGRAL|arroz integral, sal, óleo de soja|\\n|FEIJÃO COM VEGETAIS|feijão preto, chuchu, abóbora, batata doce, cebola, sal, óleo de soja, tempero verde, alho em pasta, orégano, louro|\\n|FILÉ DE PEIXE EMPANADO|filé de pescada, farinha de rosca, farinha de trigo, água, sal e temperos. Contém glúten|\\n|RATATOUILLE|tomate, berinjela, abobrinha verde, cebola, pimentão, óleo de soja, sal, pimenta do reino|\\n|PEPINO|pepino|\\n|REPOLHO ROXO|repolho roxo|\\n|VINAGRETE|água, tomate, cebola, vinagre, tempero verde, sal|\\n\\n|Quinta-Feira: 07/03/2024|\\n|---|\\n|ARROZ|arroz parboilizado, sal, óleo de soja|\\n|ARROZ INTEGRAL|arroz integral, sal, óleo de soja|\\n|FEIJÃO PRETO|feijão preto, cebola, sal, óleo de soja, tempero verde, alho, orégano, louro|\\n|SOBRECOXA DE FRANGO|sobrecoxa de frango, sal, alho em pasta, pimenta do reino|\\n|CREME DE MILHO|leite, milho em conserva, cebola, farinha de trigo, tempero verde, margarina, sal. Contém glúten e lactose|\\n|ACELGA|acelga|\\n|BETERRABA RALADA|beterraba|\\n|MOLHO DE ERVAS|água, cebola, vinagre, azeite de oliva, sal, sálvia, orégano, manjerona, manjericão|\\n\\n|Sexta-Feira: 08/03/2024|\\n|---|\\n|ARROZ|arroz parboilizado, sal, óleo de soja|\\n|ARROZ INTEGRAL|arroz integral, sal, óleo de soja|\\n|FEIJÃO CARIOCA|feijão carioca, cebola, sal, tempero verde, óleo de soja, alho em pasta, orégano, louro|\\n|FRANGO À PORTUGUESA|peito de frango, tomate, cebola, pimentão, azeitona, óleo de soja, sal, alho em pasta, sal, pimenta do reino, orégano|\\n|BATATA DOCE AO FORNO|batata doce, óleo de soja, sal|\\n|CENOURA RALADA|cenoura|\\n|COUVE-FOLHA|couve-folha|\\n|MOLHO DE ERVAS|água, cebola, vinagre, azeite de oliva, sal, sálvia, orégano, manjerona, manjericão|', start_char_idx=None, end_char_idx=None, text_template='{metadata_str}\\n\\n{content}', metadata_template='{key}: {value}', metadata_seperator='\\n')]"
      ]
     },
     "execution_count": 15,
     "metadata": {},
     "output_type": "execute_result"
    }
   ],
   "source": [
    "documents"
   ]
  },
  {
   "cell_type": "code",
   "execution_count": 16,
   "metadata": {},
   "outputs": [
    {
     "name": "stdout",
     "output_type": "stream",
     "text": [
      "|SEGUNDA-FEIRA 04/03/2024|CARNE: Frango com linguiÃ§a ARROZ BRANCO/INTEGRAL/FEIJÃO PRETO COMPLEMENTO: Soja em grÃ£os SALADA 1: AgriÃ£o SALADA 2: Rabanete SOBREMESA: Fruta MOLHO SALADA: Vinagrete|\n"
     ]
    }
   ],
   "source": [
    "cardapio_semanal = documents[0].text.split(\"\\n\")[2:7]\n",
    "print(cardapio_semanal[0].encode('utf-8').decode('iso-8859-1') )\n"
   ]
  },
  {
   "cell_type": "code",
   "execution_count": 17,
   "metadata": {},
   "outputs": [],
   "source": [
    "cardapio_seg = cardapio_semanal[0].encode('utf-8').decode('iso-8859-1')"
   ]
  },
  {
   "cell_type": "code",
   "execution_count": 18,
   "metadata": {},
   "outputs": [
    {
     "data": {
      "text/plain": [
       "{}"
      ]
     },
     "execution_count": 18,
     "metadata": {},
     "output_type": "execute_result"
    }
   ],
   "source": [
    "import smtplib\n",
    "from email.mime.text import MIMEText\n",
    "\n",
    "email = 'murillo.stein8@gmail.com'\n",
    "receiver_email = email\n",
    "\n",
    "\n",
    "server = smtplib.SMTP('smtp.gmail.com', 587)\n",
    "server.starttls()\n",
    "\n",
    "\n",
    "cardapio_seg = cardapio_semanal[0].encode('utf-8') # .encode('utf-8').decode('iso-8859-1')\n",
    "teste = f'tarardddddddddddddddddddddddddddddddddddddddddra{cardapio_seg}'\n",
    "\n",
    "msg = MIMEText(cardapio_seg, 'plain', 'utf-8')\n",
    "msg['Subject'] = 'Fala dele'\n",
    "msg['From'] = email\n",
    "msg['To'] = receiver_email\n",
    "\n",
    "\n",
    "server.login(email, 'ohmk abqz fudq vyel')\n",
    "string = str(cardapio_semanal[0].encode('utf-8'))\n",
    "server.send_message(msg)"
   ]
  },
  {
   "cell_type": "markdown",
   "metadata": {},
   "source": [
    "# extrair data certa"
   ]
  },
  {
   "cell_type": "code",
   "execution_count": 1,
   "metadata": {},
   "outputs": [
    {
     "name": "stdout",
     "output_type": "stream",
     "text": [
      "['11.03', '17.03']\n"
     ]
    }
   ],
   "source": [
    "import re\n",
    "link = 'http://siteru.paginas.ufsc.br/files/2024/03/11.03-a-17.03_sem-fds.pdf'\n",
    "date_pattern = r'\\d{2}\\.\\d{2}'\n",
    "dates = re.findall(date_pattern, link)\n",
    "print(dates)\n",
    "\n"
   ]
  },
  {
   "cell_type": "code",
   "execution_count": 6,
   "metadata": {},
   "outputs": [
    {
     "name": "stdout",
     "output_type": "stream",
     "text": [
      "A data 03.04.24 está na semana atual.\n"
     ]
    }
   ],
   "source": [
    "from datetime import datetime, timedelta\n",
    "data_inicio = dates[0] + \".24\"\n",
    "date_format = \"%d.%m.%y\"\n",
    "date_obj = datetime.strptime(data_inicio, date_format)\n",
    "today = datetime.now()\n",
    "start_of_week = today - timedelta(days=today.weekday())  # Início da semana atual (segunda-feira)\n",
    "end_of_week = start_of_week + timedelta(days=6)  # Fim da semana atual (domingo)\n",
    "\n",
    "if start_of_week <= date_obj <= end_of_week:\n",
    "    print(f'A data {data_inicio} está na semana atual.')\n",
    "else:\n",
    "    print(f'A data {data_inicio} não está na semana atual.')\n"
   ]
  }
 ],
 "metadata": {
  "kernelspec": {
   "display_name": "Python 3",
   "language": "python",
   "name": "python3"
  },
  "language_info": {
   "codemirror_mode": {
    "name": "ipython",
    "version": 3
   },
   "file_extension": ".py",
   "mimetype": "text/x-python",
   "name": "python",
   "nbconvert_exporter": "python",
   "pygments_lexer": "ipython3",
   "version": "3.11.5"
  }
 },
 "nbformat": 4,
 "nbformat_minor": 2
}
